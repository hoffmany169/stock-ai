{
 "cells": [
  {
   "cell_type": "markdown",
   "id": "cef998e7-e617-416a-88a9-eca0012ac687",
   "metadata": {},
   "source": [
    "# Model Prediction"
   ]
  },
  {
   "cell_type": "code",
   "execution_count": 14,
   "id": "f0b1b6f9-5f33-49ee-9026-7798e051e268",
   "metadata": {},
   "outputs": [],
   "source": [
    "\"\"\"\n",
    "class Model_Prediction\n",
    "predict trend of stock\n",
    "NOTE: 新数据应紧接在训练数据之后，保持时间序列连贯性。\n",
    "\n",
    "\"\"\"\n",
    "import os, sys\n",
    "sys.path.append('.')\n",
    "import numpy as np\n",
    "import pandas as pd\n",
    "from sklearn.preprocessing import MinMaxScaler\n",
    "from keras.models import load_model\n",
    "from joblib import load\n",
    "from stock_model import Stock_Model, FILE_TYPE\n",
    "import yfinance as yf\n",
    "import json\n",
    "SYMBOL = \"IFX.DE\"\n",
    "HISTORY = \"3mo\"\n",
    "class Model_Prediction:\n",
    "    CONFIG_FILE = 'config.json'\n",
    "    def __init__(self, stock, period='3mo', interval=\"1d\", win_size=60, delay_days=3, rsc_path='.'):\n",
    "        self._config = None\n",
    "        self._stock_model = Stock_Model(stock, period, interval=interval, win_size=win_size, path=rsc_path)\n",
    "        self._stock = stock if stock is not None else self._stock\n",
    "        self._period = period if period is not None else self._period\n",
    "        self._interval = interval if interval is not None else self._interval    \n",
    "        #self._session = requests.Session(impersonate=\"chrome\")\n",
    "        self._new_data = None\n",
    "        self._window_size = win_size\n",
    "\n",
    "    def load_config(self):\n",
    "        try:\n",
    "            with open(self.CONFIG_FILE, 'r') as cfg:\n",
    "                json.load(self._config, cfg)\n",
    "        except Exception as e:\n",
    "            print(f\"Load configure file fails: {e}\")\n",
    "\n",
    "    def process_predicting_data(self):\n",
    "        self.load_stock()\n",
    "        self._stock_model.load_scaler()\n",
    "        self._stock_model.set_working_data()\n",
    "        self._stock_model.scale_data(create=False, save=False)\n",
    "        self._create_sequence()\n",
    "    \n",
    "    def load_stock(self):\n",
    "        # self._new_data = yf.Ticker(self._stock, session=self.session).history(period=self._period, interval=self._interval)\n",
    "        self._stock_model.load_stock(self._stock, self._period, self._interval)\n",
    "        \n",
    "\n",
    "    def _prepare_predict_data(self):\n",
    "        scaled_new_data = self._scaler.transform(self._new_data)\n",
    "        self._prepared_data = np.array([scaled_new_data[-self._window_size:]])\n",
    "\n",
    "    def _predict_new_data(self):\n",
    "        self._model_predict_data = self._model.predict(self._predict_data)\n",
    "\n",
    "    def _invert_normalized_data(self):\n",
    "        # 反归一化需要重建完整的多变量矩阵（仅Close列有值，其他列置0）\n",
    "        dummy_matrix = np.zeros((1, self._features.shape[1]))\n",
    "        dummy_matrix[:, 3] = self._model_predict_data.flatten()  # 第4列是Close\n",
    "        self._predicted_data = self._scaler.inverse_transform(dummy_matrix)[0, 3]\n",
    "\n",
    "    def sigle_day_predict(self):\n",
    "        self._prepare_predict_data()\n",
    "        self._predict_new_data()\n",
    "        self._invert_normalized_data()\n",
    "        return self._predicted_data\n",
    "        \n",
    "    def multi_day_predict(self, days=5) -> list:\n",
    "        self.predictions = []\n",
    "        scaled_new_data = self._scaler.transform(self._new_data)\n",
    "        initial_sequence = scaled_new_data[-self._window_size:]\n",
    "        current_sequence = initial_sequence.copy()\n",
    "        self._prepare_predict_data()\n",
    "\n",
    "        for _ in range(days):\n",
    "            self._model_predict_data = self._model.predict(current_sequence.reshape(1, self._window_size, -1))\n",
    "\n",
    "            # update sequence: slide window\n",
    "            new_row = current_sequence[-1].copy()\n",
    "            new_row[3] = next_day_scaled[0][0]  # 更新Close列\n",
    "            current_sequence = np.vstack([current_sequence[1:], new_row])\n",
    "            self._invert_normalized_data()\n",
    "            self.predictions.append(self._predicted_data)            \n",
    "        return self.predictions\n",
    "        \n"
   ]
  },
  {
   "cell_type": "markdown",
   "id": "9c7d4f7d-5344-4355-b519-43726da1e2e6",
   "metadata": {},
   "source": [
    "### prepare to predict data"
   ]
  },
  {
   "cell_type": "code",
   "execution_count": 15,
   "id": "ec23690f-8605-4594-90d5-db4203ca40d9",
   "metadata": {},
   "outputs": [],
   "source": [
    "mp = Model_Prediction(SYMBOL)"
   ]
  },
  {
   "cell_type": "code",
   "execution_count": 17,
   "id": "2f93f20c-bfeb-431e-8f24-acba293c0b3f",
   "metadata": {},
   "outputs": [
    {
     "name": "stderr",
     "output_type": "stream",
     "text": [
      "$IFX.DE: possibly delisted; no price data found  (period=3mo)\n"
     ]
    }
   ],
   "source": [
    "mp.load_stock()"
   ]
  },
  {
   "cell_type": "markdown",
   "id": "2b9fcbb6-6040-44bd-be64-06422f7d279b",
   "metadata": {},
   "source": [
    "### predict data"
   ]
  },
  {
   "cell_type": "code",
   "execution_count": null,
   "id": "c9444de8-86f2-477e-a07a-610cb3a73a5d",
   "metadata": {},
   "outputs": [],
   "source": [
    "predict_scaled_data = model.predict(prepared_data)"
   ]
  },
  {
   "cell_type": "markdown",
   "id": "ac3a8b4e-ce81-4bf1-b443-6afc025d88ff",
   "metadata": {},
   "source": [
    "### invert normalized data"
   ]
  },
  {
   "cell_type": "code",
   "execution_count": null,
   "id": "6bea3fad-5b77-4cce-b007-87b8fd1b4535",
   "metadata": {},
   "outputs": [],
   "source": [
    "def _invert_normalized_data(self):\n",
    "    # 反归一化需要重建完整的多变量矩阵（仅Close列有值，其他列置0）\n",
    "    dummy_matrix = np.zeros((len(self._Y_predict), self.features.shape[1]))\n",
    "    dummy_matrix[:, 3] = self._Y_predict.flatten()  # 第4列是Close\n",
    "    self._Y_pred_actual = self._scaler.inverse_transform(dummy_matrix)[:, 3]\n",
    "    return dummy_matrix"
   ]
  },
  {
   "cell_type": "markdown",
   "id": "8ebf1c66-9b38-4f70-b5d3-94375cab3c44",
   "metadata": {},
   "source": [
    "### visual result"
   ]
  },
  {
   "cell_type": "code",
   "execution_count": null,
   "id": "ca484718-0f3d-4cc2-b3b0-7b713b23d73f",
   "metadata": {},
   "outputs": [],
   "source": [
    "def visual_predict_result(predict_prices, actual_prices=None):\n",
    "    plt.figure(figsize=(12, 6))\n",
    "    plt.plot(predict_prices, marker='o', label='Predicted Prices')\n",
    "    if actual_prices:\n",
    "        plt.plot(actual_prices, marker='x', label='Actual Prices')\n",
    "    plt.title(f'Next {future_days} Days Price Prediction')\n",
    "    plt.xlabel('Days into Future')\n",
    "    plt.ylabel('Price')\n",
    "    plt.legend()\n",
    "    plt.show()"
   ]
  }
 ],
 "metadata": {
  "kernelspec": {
   "display_name": "Python 3 (ipykernel)",
   "language": "python",
   "name": "python3"
  },
  "language_info": {
   "codemirror_mode": {
    "name": "ipython",
    "version": 3
   },
   "file_extension": ".py",
   "mimetype": "text/x-python",
   "name": "python",
   "nbconvert_exporter": "python",
   "pygments_lexer": "ipython3",
   "version": "3.10.13"
  }
 },
 "nbformat": 4,
 "nbformat_minor": 5
}
