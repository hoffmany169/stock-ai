{
 "cells": [
  {
   "cell_type": "markdown",
   "id": "cef998e7-e617-416a-88a9-eca0012ac687",
   "metadata": {},
   "source": [
    "### load model"
   ]
  },
  {
   "cell_type": "code",
   "execution_count": null,
   "id": "f0b1b6f9-5f33-49ee-9026-7798e051e268",
   "metadata": {},
   "outputs": [],
   "source": [
    "import numpy as np\n",
    "import pandas as pd\n",
    "from sklearn.preprocessing import MinMaxScaler\n",
    "from keras.models import load_model\n",
    "from joblib import load\n",
    "\n",
    "class model_prediction:\n",
    "    def __init__(self, new_data_file, model_name, scaler_name, window_size=60):\n",
    "        self._new_data_file = new_data_file\n",
    "        self._model_name = model_name\n",
    "        self._scaler_name = scaler_name\n",
    "        self._window_size = window_size\n",
    "        self._load_new_data()\n",
    "        self._load_model()\n",
    "        self._load_scaler()\n",
    "        self._features = [['Open', 'High', 'Low', 'Close', 'Volume']]\n",
    "\n",
    "    def _load_new_data(self):\n",
    "        try:\n",
    "            self._new_data = pd.read_csv(self._new_data_file, parse_dates=['Date'], index_col='Date')\n",
    "        except Exception as e:\n",
    "            print(f\"Exception: {e}\")\n",
    "\n",
    "    def _load_model(self):\n",
    "        try:\n",
    "            self._model = load_model(self._model_name)\n",
    "        except Exception as e:\n",
    "            print(f\"Exception: {e}\")\n",
    "\n",
    "    def _load_scaler(self):\n",
    "        try:\n",
    "            self.scaler = load(self._scaler_name)\n",
    "        except Exception as e:\n",
    "            print(f\"Exception: {e}\")\n",
    "\n",
    "    def _prepare_predict_data(self):\n",
    "        scaled_new_data = self._scaler.transform(self._new_data)\n",
    "        self._prepared_data = np.array([scaled_new_data[-self._window_size:]])\n",
    "\n",
    "    def _predict_new_data(self):\n",
    "        self._model_predict_data = self._model.predict(self._predict_data)\n",
    "\n",
    "    def _invert_normalized_data(self):\n",
    "        # 反归一化需要重建完整的多变量矩阵（仅Close列有值，其他列置0）\n",
    "        dummy_matrix = np.zeros((1, self._features.shape[1]))\n",
    "        dummy_matrix[:, 3] = self._model_predict_data.flatten()  # 第4列是Close\n",
    "        self._predicted_data = self._scaler.inverse_transform(dummy_matrix)[0, 3]\n",
    "\n",
    "    def sigle_day_predict(self):\n",
    "        self._prepare_predict_data()\n",
    "        self._predict_new_data()\n",
    "        self._invert_normalized_data()\n",
    "        return self._predicted_data\n",
    "        \n",
    "    def multi_day_predict(self, days=5) -> list:\n",
    "        self.predictions = []\n",
    "        scaled_new_data = self._scaler.transform(self._new_data)\n",
    "        initial_sequence = scaled_new_data[-self._window_size:]\n",
    "        current_sequence = initial_sequence.copy()\n",
    "        self._prepare_predict_data()\n",
    "\n",
    "        for _ in range(days):\n",
    "            self._model_predict_data = self._model.predict(current_sequence.reshape(1, self._window_size, -1))\n",
    "\n",
    "            # update sequence: slide window\n",
    "            new_row = current_sequence[-1].copy()\n",
    "            new_row[3] = next_day_scaled[0][0]  # 更新Close列\n",
    "            current_sequence = np.vstack([current_sequence[1:], new_row])\n",
    "            self._invert_normalized_data()\n",
    "            self.predictions.append(self._predicted_data)            \n",
    "        return self.predictions\n",
    "        \n"
   ]
  },
  {
   "cell_type": "code",
   "execution_count": 4,
   "id": "0307f16a-14c4-4ef6-9a4a-c6429481c01e",
   "metadata": {},
   "outputs": [
    {
     "name": "stderr",
     "output_type": "stream",
     "text": [
      "$IFX.DE: possibly delisted; no price data found  (period=10y)\n"
     ]
    }
   ],
   "source": [
    "\"\"\"\n",
    "predict.ipynb\n",
    "predict with input data\n",
    "1) load saved model:            stock = Stock_Model()\n",
    "2) load saved model:           stock.load_model()\n",
    "3) predict data:               stock.model_predict(data)\n",
    "\"\"\"\n",
    "import numpy as np\n",
    "import pandas as pd\n",
    "from sklearn.preprocessing import MinMaxScaler\n",
    "from keras.models import load_model\n",
    "from joblib import dump\n",
    "\n",
    "model_name = \"stock_model_name.keras\" # or name.h5\n",
    "# save scaler: dump(scaler, \"scaler.joblib\")\n",
    "scaler_name = \"scaler_stock_name.joblib\"\n",
    "# file name of saved features (use json file)\n",
    "feature_file_name = \"features_stock_name.json\"\n",
    "# load features\n",
    "features = load_features(feature_file_name)\n",
    "# input test data\n",
    "input_data = None\n",
    "model = load_model(model_name)\n",
    "## scaler must be the that in the model training\n",
    "scaler = load(scaler_name)"
   ]
  },
  {
   "cell_type": "markdown",
   "id": "57a3efcd-8dc4-4102-b1c0-35ed3b72a8cd",
   "metadata": {},
   "source": [
    "### nomalize input data (here, the training scaler must be used！）\n",
    "#### # Note: use \"transform\" instead of \"fit_transform\""
   ]
  },
  {
   "cell_type": "code",
   "execution_count": null,
   "id": "20677bfe-e52d-4ade-b627-9ae013f46592",
   "metadata": {},
   "outputs": [],
   "source": [
    "## new_features = [['Open', 'High', 'Low', 'Close', 'Volume']]\n",
    "scaled_data = scaler.transform(features)"
   ]
  },
  {
   "cell_type": "markdown",
   "id": "9c7d4f7d-5344-4355-b519-43726da1e2e6",
   "metadata": {},
   "source": [
    "### prepare to predict data"
   ]
  },
  {
   "cell_type": "code",
   "execution_count": null,
   "id": "ec23690f-8605-4594-90d5-db4203ca40d9",
   "metadata": {},
   "outputs": [],
   "source": [
    "window_size = 60\n",
    "prepared_data = np.array([scaled_data[-window_size:]])"
   ]
  },
  {
   "cell_type": "markdown",
   "id": "2b9fcbb6-6040-44bd-be64-06422f7d279b",
   "metadata": {},
   "source": [
    "### predict data"
   ]
  },
  {
   "cell_type": "code",
   "execution_count": null,
   "id": "c9444de8-86f2-477e-a07a-610cb3a73a5d",
   "metadata": {},
   "outputs": [],
   "source": [
    "predict_scaled_data = model.predict(prepared_data)"
   ]
  },
  {
   "cell_type": "markdown",
   "id": "ac3a8b4e-ce81-4bf1-b443-6afc025d88ff",
   "metadata": {},
   "source": [
    "### invert normalized data"
   ]
  },
  {
   "cell_type": "code",
   "execution_count": null,
   "id": "6bea3fad-5b77-4cce-b007-87b8fd1b4535",
   "metadata": {},
   "outputs": [],
   "source": [
    "def _invert_normalized_data(self):\n",
    "    # 反归一化需要重建完整的多变量矩阵（仅Close列有值，其他列置0）\n",
    "    dummy_matrix = np.zeros((len(self._Y_predict), self.features.shape[1]))\n",
    "    dummy_matrix[:, 3] = self._Y_predict.flatten()  # 第4列是Close\n",
    "    self._Y_pred_actual = self._scaler.inverse_transform(dummy_matrix)[:, 3]\n",
    "    return dummy_matrix"
   ]
  },
  {
   "cell_type": "markdown",
   "id": "8ebf1c66-9b38-4f70-b5d3-94375cab3c44",
   "metadata": {},
   "source": [
    "### visual result"
   ]
  },
  {
   "cell_type": "code",
   "execution_count": null,
   "id": "ca484718-0f3d-4cc2-b3b0-7b713b23d73f",
   "metadata": {},
   "outputs": [],
   "source": [
    "def visual_predict_result(predict_prices, actual_prices=None):\n",
    "    plt.figure(figsize=(12, 6))\n",
    "    plt.plot(predict_prices, marker='o', label='Predicted Prices')\n",
    "    if actual_prices:\n",
    "        plt.plot(actual_prices, marker='x', label='Actual Prices')\n",
    "    plt.title(f'Next {future_days} Days Price Prediction')\n",
    "    plt.xlabel('Days into Future')\n",
    "    plt.ylabel('Price')\n",
    "    plt.legend()\n",
    "    plt.show()"
   ]
  }
 ],
 "metadata": {
  "kernelspec": {
   "display_name": "Python 3 (ipykernel)",
   "language": "python",
   "name": "python3"
  },
  "language_info": {
   "codemirror_mode": {
    "name": "ipython",
    "version": 3
   },
   "file_extension": ".py",
   "mimetype": "text/x-python",
   "name": "python",
   "nbconvert_exporter": "python",
   "pygments_lexer": "ipython3",
   "version": "3.10.13"
  }
 },
 "nbformat": 4,
 "nbformat_minor": 5
}
