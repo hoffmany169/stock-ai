{
 "cells": [
  {
   "cell_type": "markdown",
   "id": "cef998e7-e617-416a-88a9-eca0012ac687",
   "metadata": {},
   "source": [
    "### load model"
   ]
  },
  {
   "cell_type": "code",
   "execution_count": 4,
   "id": "0307f16a-14c4-4ef6-9a4a-c6429481c01e",
   "metadata": {},
   "outputs": [
    {
     "name": "stderr",
     "output_type": "stream",
     "text": [
      "$IFX.DE: possibly delisted; no price data found  (period=10y)\n"
     ]
    }
   ],
   "source": [
    "import numpy as np\n",
    "import pandas as pd\n",
    "from sklearn.preprocessing import MinMaxScaler\n",
    "from keras.models import load_model\n",
    "from joblib import dump\n",
    "\n",
    "model_name = \"stock_model_name.keras\" # or name.h5\n",
    "# save scaler: dump(scaler, \"scaler.joblib\")\n",
    "scaler_name = \"scaler_stock_name.joblib\"\n",
    "# file name of saved features (use json file)\n",
    "feature_file_name = \"features_stock_name.json\"\n",
    "# load features\n",
    "features = load_features(feature_file_name)\n",
    "# input test data\n",
    "input_data = None\n",
    "model = load_model(model_name)\n",
    "## scaler must be the that in the model training\n",
    "scaler = load(scaler_name)"
   ]
  },
  {
   "cell_type": "markdown",
   "id": "57a3efcd-8dc4-4102-b1c0-35ed3b72a8cd",
   "metadata": {},
   "source": [
    "### nomalize input data (here, the training scaler must be used！）\n",
    "#### # Note: use \"transform\" instead of \"fit_transform\""
   ]
  },
  {
   "cell_type": "code",
   "execution_count": null,
   "id": "20677bfe-e52d-4ade-b627-9ae013f46592",
   "metadata": {},
   "outputs": [],
   "source": [
    "## new_features = [['Open', 'High', 'Low', 'Close', 'Volume']]\n",
    "scaled_data = scaler.transform(features)"
   ]
  },
  {
   "cell_type": "markdown",
   "id": "9c7d4f7d-5344-4355-b519-43726da1e2e6",
   "metadata": {},
   "source": [
    "### prepare to predict data"
   ]
  },
  {
   "cell_type": "code",
   "execution_count": null,
   "id": "ec23690f-8605-4594-90d5-db4203ca40d9",
   "metadata": {},
   "outputs": [],
   "source": [
    "window_size = 60\n",
    "prepared_data = np.array([scaled_data[-window_size:]])"
   ]
  },
  {
   "cell_type": "markdown",
   "id": "2b9fcbb6-6040-44bd-be64-06422f7d279b",
   "metadata": {},
   "source": [
    "### predict data"
   ]
  },
  {
   "cell_type": "code",
   "execution_count": null,
   "id": "c9444de8-86f2-477e-a07a-610cb3a73a5d",
   "metadata": {},
   "outputs": [],
   "source": [
    "predict_scaled_data = model.predict(prepared_data)"
   ]
  },
  {
   "cell_type": "markdown",
   "id": "ac3a8b4e-ce81-4bf1-b443-6afc025d88ff",
   "metadata": {},
   "source": [
    "### invert normalized data"
   ]
  },
  {
   "cell_type": "code",
   "execution_count": null,
   "id": "6bea3fad-5b77-4cce-b007-87b8fd1b4535",
   "metadata": {},
   "outputs": [],
   "source": [
    "def _invert_normalized_data(self):\n",
    "    # 反归一化需要重建完整的多变量矩阵（仅Close列有值，其他列置0）\n",
    "    dummy_matrix = np.zeros((len(self._Y_predict), self.features.shape[1]))\n",
    "    dummy_matrix[:, 3] = self._Y_predict.flatten()  # 第4列是Close\n",
    "    self._Y_pred_actual = self._scaler.inverse_transform(dummy_matrix)[:, 3]\n",
    "    return dummy_matrix"
   ]
  }
 ],
 "metadata": {
  "kernelspec": {
   "display_name": "Python 3 (ipykernel)",
   "language": "python",
   "name": "python3"
  },
  "language_info": {
   "codemirror_mode": {
    "name": "ipython",
    "version": 3
   },
   "file_extension": ".py",
   "mimetype": "text/x-python",
   "name": "python",
   "nbconvert_exporter": "python",
   "pygments_lexer": "ipython3",
   "version": "3.10.13"
  }
 },
 "nbformat": 4,
 "nbformat_minor": 5
}
