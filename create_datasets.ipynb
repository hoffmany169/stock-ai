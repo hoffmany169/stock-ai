{
 "cells": [
  {
   "cell_type": "markdown",
   "id": "754a573d-b873-4b02-b3e8-e52994df32de",
   "metadata": {},
   "source": [
    "### create data from stock"
   ]
  },
  {
   "cell_type": "code",
   "execution_count": 3,
   "id": "d9d11961-5efc-4f13-ac81-e2d843e22dcf",
   "metadata": {},
   "outputs": [],
   "source": [
    "import numpy as np\n",
    "import pandas as pd\n",
    "import yfinance as yf\n",
    "import matplotlib.pyplot as plt\n",
    "from sklearn.preprocessing import MinMaxScaler\n",
    "from sklearn.model_selection import train_test_split\n",
    "from tensorflow.keras.models import Sequential\n",
    "from tensorflow.keras.layers import LSTM, Dense, Dropout\n",
    "from tensorflow.keras.callbacks import EarlyStopping\n",
    "from curl_cffi import requests\n",
    "\n",
    "SYMBOL = \"IFX.DE\"\n",
    "HISTORY = \"10y\"\n",
    "\n",
    "class stock_datasets:\n",
    "    CLASSES = [\"Bull\", \"Bear\"]\n",
    "    def __init__(self, stock=None, period=None, interval=\"1d\"):\n",
    "        self._stock = stock if stock is not None else None\n",
    "        self._period = period if period is not None else None\n",
    "        self._interval = interval if interval is not None else None\n",
    "        self._stock_data = None\n",
    "        self._X_train = None\n",
    "        self._Y_train = None\n",
    "        self._X_test = None\n",
    "        self._Y_test = None\n",
    "\n",
    "    @property\n",
    "    def stock_data(self):\n",
    "        return self._stock_data\n",
    "\n",
    "    @property\n",
    "    def features(self):\n",
    "        return self._features\n",
    "        \n",
    "    def load_stock(self, stock=None, period=None, interval=None):\n",
    "        ## read stock data from stock markt\n",
    "        self._stock = stock if stock is not None else self._stock\n",
    "        self._period = period if period is not None else self._period\n",
    "        self._interval = interval if interval is not None else self._interval    \n",
    "        self.session = requests.Session(impersonate=\"chrome\")\n",
    "        self._stock_data = yf.Ticker(self._stock, session=self.session).history(period=self._period, interval=self._interval)\n",
    "        ### default all features\n",
    "        self._base_features = ['Open', 'High', 'Low', 'Close', 'Volume', \"Dividends\", \"Stock Splits\"]\n",
    "        self._features = None\n",
    "        self._data = self._stock_data ## used for prediction process\n",
    "        \n",
    "    def set_working_data(self, features=(0, 5), remove_col=[\"Dividends\", \"Stock Splits\"]):\n",
    "        self._features = self._data[[self._base_features[f] for f in range(features[0],features[1])]]\n",
    "        self._remove_columns(remove_col)\n",
    "        self._normalize_data()\n",
    "    \n",
    "    ### remove meaningless columns\n",
    "    def _remove_columns(self, columns):\n",
    "        if len(columns) == 0:\n",
    "            return\n",
    "        self._data = self._stock_data.drop(columns=columns)\n",
    "        self._data = self._stock_data[:-1]\n",
    "\n",
    "    def _normalize_data(self):\n",
    "        scaler = MinMaxScaler(feature_range=(0, 1))\n",
    "        self._data = scaler.fit_transform(self._data)\n",
    "\n",
    "    def _create_sequences(self, window_size):\n",
    "        data_num = len(self._data)\n",
    "        if data_num < window_size:\n",
    "            raise ValueError(\"Too few number of data\")\n",
    "        X, Y = [], []\n",
    "        for i in range(data_num - window_size):\n",
    "            # Input: add all features: Open, High, Low, Close, Volume\n",
    "            X.append(self._data[i:i+window_size, :]) \n",
    "            # Output: predict Close price\n",
    "            Y.append(self._data[i+window_size], 3) \n",
    "        return np.array(X), np.array(Y)\n",
    "\n",
    "    def create_train_test_data(self, window_size=100, train_data_percentage=0.7):\n",
    "        if data_num < window_size:\n",
    "            raise ValueError(\"Too few number of data\")\n",
    "        self.window_size = window_size\n",
    "        if train_data_percentage >= 1.0:\n",
    "            raise ValueError(\"Percent must less than 1.0\")\n",
    "        X, Y = self._create_sequences(window_size)\n",
    "        split = int(train_data_percentage * len(X))\n",
    "        self._X_train, self._X_test = X[:split], X[split:]\n",
    "        self._Y_train, self._Y_test = Y[:split], Y[split:]\n",
    "\n",
    "    def create_LSTM_model(self):\n",
    "        model = Sequential([\n",
    "            LSTM(64, return_sequences=True, input_shape=(self.window_size, self._features.shape[2])),  # 输入维度为 (窗口大小, 特征数)\n",
    "            Dropout(0.3),\n",
    "            LSTM(32, return_sequences=False),\n",
    "            Dropout(0.2),\n",
    "            Dense(1)\n",
    "        ])\n"
   ]
  },
  {
   "cell_type": "code",
   "execution_count": 4,
   "id": "39ffa0a3-e851-4f57-86bb-41267eff5e73",
   "metadata": {},
   "outputs": [],
   "source": [
    "stock_daten = stock_datasets(SYMBOL, HISTORY)\n",
    "stock_daten.load_stock()"
   ]
  },
  {
   "cell_type": "code",
   "execution_count": 5,
   "id": "38e695b3-5e2b-4f1d-90a4-702564d0ba61",
   "metadata": {},
   "outputs": [],
   "source": [
    "stock_daten.set_working_data()"
   ]
  },
  {
   "cell_type": "code",
   "execution_count": 6,
   "id": "90501e74-c1cb-4315-abec-5e8fc03b9b10",
   "metadata": {},
   "outputs": [
    {
     "ename": "AttributeError",
     "evalue": "'numpy.ndarray' object has no attribute 'tail'",
     "output_type": "error",
     "traceback": [
      "\u001b[1;31m---------------------------------------------------------------------------\u001b[0m",
      "\u001b[1;31mAttributeError\u001b[0m                            Traceback (most recent call last)",
      "Cell \u001b[1;32mIn[6], line 1\u001b[0m\n\u001b[1;32m----> 1\u001b[0m \u001b[43mstock_daten\u001b[49m\u001b[38;5;241;43m.\u001b[39;49m\u001b[43mstock_data\u001b[49m\u001b[38;5;241;43m.\u001b[39;49m\u001b[43mtail\u001b[49m()\n",
      "\u001b[1;31mAttributeError\u001b[0m: 'numpy.ndarray' object has no attribute 'tail'"
     ]
    }
   ],
   "source": [
    "stock_daten.stock_data.tail()"
   ]
  },
  {
   "cell_type": "markdown",
   "id": "42c5737c-8a56-48e4-a0fa-296564f1e837",
   "metadata": {},
   "source": [
    "#### construct datasets"
   ]
  },
  {
   "cell_type": "code",
   "execution_count": 7,
   "id": "ad4d8a7f-c4fc-4acb-b5ba-5c5b20579e6e",
   "metadata": {},
   "outputs": [
    {
     "data": {
      "text/plain": [
       "(2543, 5)"
      ]
     },
     "execution_count": 7,
     "metadata": {},
     "output_type": "execute_result"
    }
   ],
   "source": [
    "stock_daten.features.shape"
   ]
  },
  {
   "cell_type": "code",
   "execution_count": null,
   "id": "5a184175-a351-4d7f-b45a-5b28245c7d6b",
   "metadata": {},
   "outputs": [],
   "source": []
  }
 ],
 "metadata": {
  "kernelspec": {
   "display_name": "Python 3 (ipykernel)",
   "language": "python",
   "name": "python3"
  },
  "language_info": {
   "codemirror_mode": {
    "name": "ipython",
    "version": 3
   },
   "file_extension": ".py",
   "mimetype": "text/x-python",
   "name": "python",
   "nbconvert_exporter": "python",
   "pygments_lexer": "ipython3",
   "version": "3.10.13"
  }
 },
 "nbformat": 4,
 "nbformat_minor": 5
}
