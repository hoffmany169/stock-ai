{
 "cells": [
  {
   "cell_type": "markdown",
   "id": "754a573d-b873-4b02-b3e8-e52994df32de",
   "metadata": {},
   "source": [
    "### create data from stock"
   ]
  },
  {
   "cell_type": "code",
   "execution_count": 2,
   "id": "c31b6849-322d-4125-a407-23c35a78b937",
   "metadata": {},
   "outputs": [
    {
     "name": "stdout",
     "output_type": "stream",
     "text": [
      "Collecting yfinance\n",
      "  Downloading yfinance-0.2.61-py2.py3-none-any.whl.metadata (5.8 kB)\n",
      "Requirement already satisfied: pandas>=1.3.0 in c:\\users\\peilian.yuan.sykam\\appdata\\local\\anaconda3\\envs\\tf\\lib\\site-packages (from yfinance) (2.2.3)\n",
      "Requirement already satisfied: numpy>=1.16.5 in c:\\users\\peilian.yuan.sykam\\appdata\\local\\anaconda3\\envs\\tf\\lib\\site-packages (from yfinance) (2.0.2)\n",
      "Requirement already satisfied: requests>=2.31 in c:\\users\\peilian.yuan.sykam\\appdata\\local\\anaconda3\\envs\\tf\\lib\\site-packages (from yfinance) (2.32.3)\n",
      "Collecting multitasking>=0.0.7 (from yfinance)\n",
      "  Downloading multitasking-0.0.11-py3-none-any.whl.metadata (5.5 kB)\n",
      "Requirement already satisfied: platformdirs>=2.0.0 in c:\\users\\peilian.yuan.sykam\\appdata\\local\\anaconda3\\envs\\tf\\lib\\site-packages (from yfinance) (4.3.7)\n",
      "Requirement already satisfied: pytz>=2022.5 in c:\\users\\peilian.yuan.sykam\\appdata\\local\\anaconda3\\envs\\tf\\lib\\site-packages (from yfinance) (2025.2)\n",
      "Collecting frozendict>=2.3.4 (from yfinance)\n",
      "  Downloading frozendict-2.4.6-py311-none-any.whl.metadata (23 kB)\n",
      "Collecting peewee>=3.16.2 (from yfinance)\n",
      "  Downloading peewee-3.18.1.tar.gz (3.0 MB)\n",
      "     ---------------------------------------- 0.0/3.0 MB ? eta -:--:--\n",
      "     ----------------- ---------------------- 1.3/3.0 MB 6.1 MB/s eta 0:00:01\n",
      "     ------------------------------- -------- 2.4/3.0 MB 5.8 MB/s eta 0:00:01\n",
      "     ---------------------------------------- 3.0/3.0 MB 5.7 MB/s eta 0:00:00\n",
      "  Installing build dependencies: started\n",
      "  Installing build dependencies: finished with status 'done'\n",
      "  Getting requirements to build wheel: started\n",
      "  Getting requirements to build wheel: finished with status 'done'\n",
      "  Preparing metadata (pyproject.toml): started\n",
      "  Preparing metadata (pyproject.toml): finished with status 'done'\n",
      "Requirement already satisfied: beautifulsoup4>=4.11.1 in c:\\users\\peilian.yuan.sykam\\appdata\\local\\anaconda3\\envs\\tf\\lib\\site-packages (from yfinance) (4.12.3)\n",
      "Collecting curl_cffi>=0.7 (from yfinance)\n",
      "  Downloading curl_cffi-0.10.0-cp39-abi3-win_amd64.whl.metadata (12 kB)\n",
      "Requirement already satisfied: protobuf>=3.19.0 in c:\\users\\peilian.yuan.sykam\\appdata\\local\\anaconda3\\envs\\tf\\lib\\site-packages (from yfinance) (5.29.3)\n",
      "Collecting websockets>=13.0 (from yfinance)\n",
      "  Downloading websockets-15.0.1-cp311-cp311-win_amd64.whl.metadata (7.0 kB)\n",
      "Requirement already satisfied: soupsieve>1.2 in c:\\users\\peilian.yuan.sykam\\appdata\\local\\anaconda3\\envs\\tf\\lib\\site-packages (from beautifulsoup4>=4.11.1->yfinance) (2.5)\n",
      "Requirement already satisfied: cffi>=1.12.0 in c:\\users\\peilian.yuan.sykam\\appdata\\local\\anaconda3\\envs\\tf\\lib\\site-packages (from curl_cffi>=0.7->yfinance) (1.17.1)\n",
      "Requirement already satisfied: certifi>=2024.2.2 in c:\\users\\peilian.yuan.sykam\\appdata\\local\\anaconda3\\envs\\tf\\lib\\site-packages (from curl_cffi>=0.7->yfinance) (2025.4.26)\n",
      "Requirement already satisfied: pycparser in c:\\users\\peilian.yuan.sykam\\appdata\\local\\anaconda3\\envs\\tf\\lib\\site-packages (from cffi>=1.12.0->curl_cffi>=0.7->yfinance) (2.21)\n",
      "Requirement already satisfied: python-dateutil>=2.8.2 in c:\\users\\peilian.yuan.sykam\\appdata\\local\\anaconda3\\envs\\tf\\lib\\site-packages (from pandas>=1.3.0->yfinance) (2.9.0.post0)\n",
      "Requirement already satisfied: tzdata>=2022.7 in c:\\users\\peilian.yuan.sykam\\appdata\\local\\anaconda3\\envs\\tf\\lib\\site-packages (from pandas>=1.3.0->yfinance) (2025.2)\n",
      "Requirement already satisfied: six>=1.5 in c:\\users\\peilian.yuan.sykam\\appdata\\local\\anaconda3\\envs\\tf\\lib\\site-packages (from python-dateutil>=2.8.2->pandas>=1.3.0->yfinance) (1.17.0)\n",
      "Requirement already satisfied: charset-normalizer<4,>=2 in c:\\users\\peilian.yuan.sykam\\appdata\\local\\anaconda3\\envs\\tf\\lib\\site-packages (from requests>=2.31->yfinance) (3.3.2)\n",
      "Requirement already satisfied: idna<4,>=2.5 in c:\\users\\peilian.yuan.sykam\\appdata\\local\\anaconda3\\envs\\tf\\lib\\site-packages (from requests>=2.31->yfinance) (3.7)\n",
      "Requirement already satisfied: urllib3<3,>=1.21.1 in c:\\users\\peilian.yuan.sykam\\appdata\\local\\anaconda3\\envs\\tf\\lib\\site-packages (from requests>=2.31->yfinance) (2.3.0)\n",
      "Downloading yfinance-0.2.61-py2.py3-none-any.whl (117 kB)\n",
      "Downloading curl_cffi-0.10.0-cp39-abi3-win_amd64.whl (1.4 MB)\n",
      "   ---------------------------------------- 0.0/1.4 MB ? eta -:--:--\n",
      "   -------------------------------------- - 1.3/1.4 MB 6.7 MB/s eta 0:00:01\n",
      "   ---------------------------------------- 1.4/1.4 MB 6.5 MB/s eta 0:00:00\n",
      "Downloading frozendict-2.4.6-py311-none-any.whl (16 kB)\n",
      "Downloading multitasking-0.0.11-py3-none-any.whl (8.5 kB)\n",
      "Downloading websockets-15.0.1-cp311-cp311-win_amd64.whl (176 kB)\n",
      "Building wheels for collected packages: peewee\n",
      "  Building wheel for peewee (pyproject.toml): started\n",
      "  Building wheel for peewee (pyproject.toml): finished with status 'done'\n",
      "  Created wheel for peewee: filename=peewee-3.18.1-py3-none-any.whl size=139099 sha256=505384b43af03d2c04e481e34164044efbc3f9890db06df406a1e0492998fcd0\n",
      "  Stored in directory: c:\\users\\peilian.yuan.sykam\\appdata\\local\\pip\\cache\\wheels\\25\\cb\\79\\a133a0d1d75f318a96614ed7fb97bdf2f35a7b6c4d4e426e3f\n",
      "Successfully built peewee\n",
      "Installing collected packages: peewee, multitasking, websockets, frozendict, curl_cffi, yfinance\n",
      "\n",
      "   ---------------------------------------- 0/6 [peewee]\n",
      "   ------------- -------------------------- 2/6 [websockets]\n",
      "   ------------- -------------------------- 2/6 [websockets]\n",
      "   ------------- -------------------------- 2/6 [websockets]\n",
      "   -------------------------- ------------- 4/6 [curl_cffi]\n",
      "   --------------------------------- ------ 5/6 [yfinance]\n",
      "   --------------------------------- ------ 5/6 [yfinance]\n",
      "   ---------------------------------------- 6/6 [yfinance]\n",
      "\n",
      "Successfully installed curl_cffi-0.10.0 frozendict-2.4.6 multitasking-0.0.11 peewee-3.18.1 websockets-15.0.1 yfinance-0.2.61\n",
      "Note: you may need to restart the kernel to use updated packages.\n"
     ]
    }
   ],
   "source": [
    "pip install yfinance"
   ]
  },
  {
   "cell_type": "code",
   "execution_count": 4,
   "id": "8decdda8-43c6-4d32-b7a3-cb3d3294fe83",
   "metadata": {},
   "outputs": [
    {
     "name": "stdout",
     "output_type": "stream",
     "text": [
      "Collecting matplotlib\n",
      "  Downloading matplotlib-3.10.3-cp311-cp311-win_amd64.whl.metadata (11 kB)\n",
      "Collecting contourpy>=1.0.1 (from matplotlib)\n",
      "  Downloading contourpy-1.3.2-cp311-cp311-win_amd64.whl.metadata (5.5 kB)\n",
      "Collecting cycler>=0.10 (from matplotlib)\n",
      "  Using cached cycler-0.12.1-py3-none-any.whl.metadata (3.8 kB)\n",
      "Collecting fonttools>=4.22.0 (from matplotlib)\n",
      "  Downloading fonttools-4.58.0-cp311-cp311-win_amd64.whl.metadata (106 kB)\n",
      "Collecting kiwisolver>=1.3.1 (from matplotlib)\n",
      "  Downloading kiwisolver-1.4.8-cp311-cp311-win_amd64.whl.metadata (6.3 kB)\n",
      "Requirement already satisfied: numpy>=1.23 in c:\\users\\peilian.yuan.sykam\\appdata\\local\\anaconda3\\envs\\tf\\lib\\site-packages (from matplotlib) (2.0.2)\n",
      "Requirement already satisfied: packaging>=20.0 in c:\\users\\peilian.yuan.sykam\\appdata\\local\\anaconda3\\envs\\tf\\lib\\site-packages (from matplotlib) (24.2)\n",
      "Collecting pillow>=8 (from matplotlib)\n",
      "  Downloading pillow-11.2.1-cp311-cp311-win_amd64.whl.metadata (9.1 kB)\n",
      "Collecting pyparsing>=2.3.1 (from matplotlib)\n",
      "  Using cached pyparsing-3.2.3-py3-none-any.whl.metadata (5.0 kB)\n",
      "Requirement already satisfied: python-dateutil>=2.7 in c:\\users\\peilian.yuan.sykam\\appdata\\local\\anaconda3\\envs\\tf\\lib\\site-packages (from matplotlib) (2.9.0.post0)\n",
      "Requirement already satisfied: six>=1.5 in c:\\users\\peilian.yuan.sykam\\appdata\\local\\anaconda3\\envs\\tf\\lib\\site-packages (from python-dateutil>=2.7->matplotlib) (1.17.0)\n",
      "Downloading matplotlib-3.10.3-cp311-cp311-win_amd64.whl (8.1 MB)\n",
      "   ---------------------------------------- 0.0/8.1 MB ? eta -:--:--\n",
      "   ------ --------------------------------- 1.3/8.1 MB 6.1 MB/s eta 0:00:02\n",
      "   ------------- -------------------------- 2.6/8.1 MB 6.3 MB/s eta 0:00:01\n",
      "   ------------------- -------------------- 3.9/8.1 MB 6.3 MB/s eta 0:00:01\n",
      "   -------------------------- ------------- 5.2/8.1 MB 6.4 MB/s eta 0:00:01\n",
      "   -------------------------------- ------- 6.6/8.1 MB 6.4 MB/s eta 0:00:01\n",
      "   ---------------------------------------  7.9/8.1 MB 6.4 MB/s eta 0:00:01\n",
      "   ---------------------------------------- 8.1/8.1 MB 6.2 MB/s eta 0:00:00\n",
      "Downloading contourpy-1.3.2-cp311-cp311-win_amd64.whl (222 kB)\n",
      "Using cached cycler-0.12.1-py3-none-any.whl (8.3 kB)\n",
      "Downloading fonttools-4.58.0-cp311-cp311-win_amd64.whl (2.2 MB)\n",
      "   ---------------------------------------- 0.0/2.2 MB ? eta -:--:--\n",
      "   ----------------------- ---------------- 1.3/2.2 MB 6.1 MB/s eta 0:00:01\n",
      "   ---------------------------------------- 2.2/2.2 MB 6.0 MB/s eta 0:00:00\n",
      "Downloading kiwisolver-1.4.8-cp311-cp311-win_amd64.whl (71 kB)\n",
      "Downloading pillow-11.2.1-cp311-cp311-win_amd64.whl (2.7 MB)\n",
      "   ---------------------------------------- 0.0/2.7 MB ? eta -:--:--\n",
      "   ------------------- -------------------- 1.3/2.7 MB 6.7 MB/s eta 0:00:01\n",
      "   ---------------------------------------  2.6/2.7 MB 6.6 MB/s eta 0:00:01\n",
      "   ---------------------------------------- 2.7/2.7 MB 6.2 MB/s eta 0:00:00\n",
      "Using cached pyparsing-3.2.3-py3-none-any.whl (111 kB)\n",
      "Installing collected packages: pyparsing, pillow, kiwisolver, fonttools, cycler, contourpy, matplotlib\n",
      "\n",
      "   ----- ---------------------------------- 1/7 [pillow]\n",
      "   ----- ---------------------------------- 1/7 [pillow]\n",
      "   ----- ---------------------------------- 1/7 [pillow]\n",
      "   ----- ---------------------------------- 1/7 [pillow]\n",
      "   ----- ---------------------------------- 1/7 [pillow]\n",
      "   ----- ---------------------------------- 1/7 [pillow]\n",
      "   ----------------- ---------------------- 3/7 [fonttools]\n",
      "   ----------------- ---------------------- 3/7 [fonttools]\n",
      "   ----------------- ---------------------- 3/7 [fonttools]\n",
      "   ----------------- ---------------------- 3/7 [fonttools]\n",
      "   ----------------- ---------------------- 3/7 [fonttools]\n",
      "   ----------------- ---------------------- 3/7 [fonttools]\n",
      "   ----------------- ---------------------- 3/7 [fonttools]\n",
      "   ----------------- ---------------------- 3/7 [fonttools]\n",
      "   ----------------- ---------------------- 3/7 [fonttools]\n",
      "   ----------------- ---------------------- 3/7 [fonttools]\n",
      "   ----------------- ---------------------- 3/7 [fonttools]\n",
      "   ----------------- ---------------------- 3/7 [fonttools]\n",
      "   ----------------- ---------------------- 3/7 [fonttools]\n",
      "   ----------------- ---------------------- 3/7 [fonttools]\n",
      "   ----------------- ---------------------- 3/7 [fonttools]\n",
      "   ----------------- ---------------------- 3/7 [fonttools]\n",
      "   ----------------- ---------------------- 3/7 [fonttools]\n",
      "   ----------------- ---------------------- 3/7 [fonttools]\n",
      "   ---------------------------- ----------- 5/7 [contourpy]\n",
      "   ---------------------------------- ----- 6/7 [matplotlib]\n",
      "   ---------------------------------- ----- 6/7 [matplotlib]\n",
      "   ---------------------------------- ----- 6/7 [matplotlib]\n",
      "   ---------------------------------- ----- 6/7 [matplotlib]\n",
      "   ---------------------------------- ----- 6/7 [matplotlib]\n",
      "   ---------------------------------- ----- 6/7 [matplotlib]\n",
      "   ---------------------------------- ----- 6/7 [matplotlib]\n",
      "   ---------------------------------- ----- 6/7 [matplotlib]\n",
      "   ---------------------------------- ----- 6/7 [matplotlib]\n",
      "   ---------------------------------- ----- 6/7 [matplotlib]\n",
      "   ---------------------------------- ----- 6/7 [matplotlib]\n",
      "   ---------------------------------- ----- 6/7 [matplotlib]\n",
      "   ---------------------------------- ----- 6/7 [matplotlib]\n",
      "   ---------------------------------- ----- 6/7 [matplotlib]\n",
      "   ---------------------------------- ----- 6/7 [matplotlib]\n",
      "   ---------------------------------- ----- 6/7 [matplotlib]\n",
      "   ---------------------------------- ----- 6/7 [matplotlib]\n",
      "   ---------------------------------- ----- 6/7 [matplotlib]\n",
      "   ---------------------------------- ----- 6/7 [matplotlib]\n",
      "   ---------------------------------- ----- 6/7 [matplotlib]\n",
      "   ---------------------------------- ----- 6/7 [matplotlib]\n",
      "   ---------------------------------- ----- 6/7 [matplotlib]\n",
      "   ---------------------------------------- 7/7 [matplotlib]\n",
      "\n",
      "Successfully installed contourpy-1.3.2 cycler-0.12.1 fonttools-4.58.0 kiwisolver-1.4.8 matplotlib-3.10.3 pillow-11.2.1 pyparsing-3.2.3\n",
      "Note: you may need to restart the kernel to use updated packages.\n"
     ]
    }
   ],
   "source": [
    "pip install matplotlib"
   ]
  },
  {
   "cell_type": "code",
   "execution_count": 74,
   "id": "d9d11961-5efc-4f13-ac81-e2d843e22dcf",
   "metadata": {},
   "outputs": [],
   "source": [
    "import numpy as np\n",
    "import pandas as pd\n",
    "import yfinance as yf\n",
    "import matplotlib.pyplot as plt\n",
    "from sklearn.preprocessing import MinMaxScaler\n",
    "from sklearn.model_selection import train_test_split\n",
    "from keras.models import Sequential\n",
    "from keras.layers import LSTM, Dense, Dropout\n",
    "from keras.callbacks import EarlyStopping\n",
    "from curl_cffi import requests\n",
    "\n",
    "SYMBOL = \"IFX.DE\"\n",
    "HISTORY = \"10y\"\n",
    "\n",
    "class stock_datasets:\n",
    "    CLASSES = [\"Bull\", \"Bear\"]\n",
    "    def __init__(self, stock=None, period=None, interval=\"1d\", win_size=60):\n",
    "        self._stock = stock if stock is not None else None\n",
    "        self._period = period if period is not None else None\n",
    "        self._interval = interval if interval is not None else None\n",
    "        ### default all features\n",
    "        self._base_features = ['Open', 'High', 'Low', 'Close', 'Volume', \"Dividends\", \"Stock Splits\"]\n",
    "        self._stock_data = None\n",
    "        self._X_train = None\n",
    "        self._Y_train = None\n",
    "        self._X_test = None\n",
    "        self._Y_test = None\n",
    "        self._window_size = win_size # default 60 days\n",
    "\n",
    "    @property\n",
    "    def stock_data(self):\n",
    "        return self._stock_data\n",
    "\n",
    "    @property\n",
    "    def test_data(self):\n",
    "        if self._data is None:\n",
    "            return None\n",
    "        return self._data\n",
    "\n",
    "    @property\n",
    "    def test_data_num(self):\n",
    "        if self._data is None:\n",
    "            return 0\n",
    "        return len(self._data)\n",
    "        \n",
    "    @property\n",
    "    def features(self):\n",
    "        if self._features is None:\n",
    "            return self._base_features\n",
    "        return self._features\n",
    "\n",
    "    @property\n",
    "    def window_size(self):\n",
    "        return self._window_size\n",
    "\n",
    "    @window_size.setter\n",
    "    def window_size(self, ws):\n",
    "        self._window_size = ws\n",
    "        \n",
    "    def load_stock(self, stock=None, period=None, interval=None):\n",
    "        ## read stock data from stock markt\n",
    "        self._stock = stock if stock is not None else self._stock\n",
    "        self._period = period if period is not None else self._period\n",
    "        self._interval = interval if interval is not None else self._interval    \n",
    "        self.session = requests.Session(impersonate=\"chrome\")\n",
    "        self._stock_data = yf.Ticker(self._stock, session=self.session).history(period=self._period, interval=self._interval)\n",
    "        self._features = None\n",
    "        self._data = self._stock_data ## used for prediction process\n",
    "        \n",
    "    def set_working_data(self, features=(0, 5), remove_cols=[\"Dividends\", \"Stock Splits\"]):\n",
    "        self._features = [self._base_features[f] for f in range(features[0],features[1])]\n",
    "        ### remove meaningless columns\n",
    "        self._data = self._stock_data.drop(columns=remove_cols)\n",
    "        # remove today data\n",
    "        self._data = self._data[:-1]\n",
    "        self._normalize_data()\n",
    "    \n",
    "    def _normalize_data(self):\n",
    "        scaler = MinMaxScaler(feature_range=(0, 1))\n",
    "        self._data = scaler.fit_transform(self._data)\n",
    "\n",
    "    def _create_sequences(self):\n",
    "        if self.test_data_num < self._window_size:\n",
    "            raise ValueError(\"Too few number of data\")\n",
    "        X, Y = [], []\n",
    "        for i in range(self.test_data_num - self._window_size):\n",
    "            # Input: add all features: Open, High, Low, Close, Volume\n",
    "            X.append(self._data[i:i+self._window_size, :]) \n",
    "            # Output: predict Close price\n",
    "            Y.append(self._data[i+self._window_size, 3]) \n",
    "        return np.array(X), np.array(Y)\n",
    "\n",
    "    def create_train_test_data(self, train_data_percentage=0.7):\n",
    "        if self.test_data_num < self._window_size:\n",
    "            raise ValueError(\"Too few number of data\")\n",
    "        if train_data_percentage >= 1.0:\n",
    "            raise ValueError(\"Percent must less than 1.0\")\n",
    "        X, Y = self._create_sequences()\n",
    "        split = int(train_data_percentage * len(X))\n",
    "        self._X_train, self._X_test = X[:split], X[split:]\n",
    "        self._Y_train, self._Y_test = Y[:split], Y[split:]\n",
    "\n",
    "    def create_LSTM_model(self):\n",
    "        model = Sequential([\n",
    "            LSTM(64, return_sequences=True, input_shape=(self.window_size, self._features.shape[2])),  # 输入维度为 (窗口大小, 特征数)\n",
    "            Dropout(0.3),\n",
    "            LSTM(32, return_sequences=False),\n",
    "            Dropout(0.2),\n",
    "            Dense(1)\n",
    "        ])\n"
   ]
  },
  {
   "cell_type": "code",
   "execution_count": 75,
   "id": "39ffa0a3-e851-4f57-86bb-41267eff5e73",
   "metadata": {},
   "outputs": [],
   "source": [
    "stock_daten = stock_datasets(SYMBOL, HISTORY)\n",
    "stock_daten.load_stock()"
   ]
  },
  {
   "cell_type": "code",
   "execution_count": 68,
   "id": "32ddb50c-aa97-4780-b86d-fa4502684a33",
   "metadata": {},
   "outputs": [
    {
     "data": {
      "image/png": "[encoded data removed]",
      "text/plain": [
       "<Figure size 800x500 with 1 Axes>"
      ]
     },
     "metadata": {},
     "output_type": "display_data"
    }
   ],
   "source": [
    "%matplotlib inline\n",
    "from matplotlib import pyplot as plt\n",
    "fig1 = plt.figure(figsize=(8, 5))\n",
    "plt.plot(stock_daten.test_data[stock_daten.features[0]], label=stock_daten.features[0])\n",
    "plt.plot(stock_daten.test_data[stock_daten.features[1]], label=stock_daten.features[1])\n",
    "plt.plot(stock_daten.test_data[stock_daten.features[2]], label=stock_daten.features[2])\n",
    "plt.plot(stock_daten.test_data[stock_daten.features[3]], label=stock_daten.features[3])\n",
    "#plt.xlim('2023.01.01', '2023.12.31')\n",
    "plt.xlabel('time')\n",
    "plt.ylabel('price')\n",
    "plt.legend()\n",
    "plt.show()"
   ]
  },
  {
   "cell_type": "code",
   "execution_count": 76,
   "id": "38e695b3-5e2b-4f1d-90a4-702564d0ba61",
   "metadata": {},
   "outputs": [
    {
     "ename": "AttributeError",
     "evalue": "'stock_datasets' object has no attribute '_stock_datasets__data'",
     "output_type": "error",
     "traceback": [
      "\u001b[31m---------------------------------------------------------------------------\u001b[39m",
      "\u001b[31mAttributeError\u001b[39m                            Traceback (most recent call last)",
      "\u001b[36mCell\u001b[39m\u001b[36m \u001b[39m\u001b[32mIn[76]\u001b[39m\u001b[32m, line 1\u001b[39m\n\u001b[32m----> \u001b[39m\u001b[32m1\u001b[39m stock_daten.set_working_data()\n",
      "\u001b[36mCell\u001b[39m\u001b[36m \u001b[39m\u001b[32mIn[74]\u001b[39m\u001b[32m, line 75\u001b[39m, in \u001b[36mstock_datasets.set_working_data\u001b[39m\u001b[34m(self, features, remove_cols)\u001b[39m\n\u001b[32m     73\u001b[39m \u001b[38;5;28mself\u001b[39m._data = \u001b[38;5;28mself\u001b[39m._stock_data.drop(columns=remove_cols)\n\u001b[32m     74\u001b[39m \u001b[38;5;66;03m# remove today data\u001b[39;00m\n\u001b[32m---> \u001b[39m\u001b[32m75\u001b[39m \u001b[38;5;28mself\u001b[39m._data = \u001b[38;5;28mself\u001b[39m.__data[:-\u001b[32m1\u001b[39m]\n\u001b[32m     76\u001b[39m \u001b[38;5;28mself\u001b[39m._normalize_data()\n",
      "\u001b[31mAttributeError\u001b[39m: 'stock_datasets' object has no attribute '_stock_datasets__data'"
     ]
    }
   ],
   "source": [
    "stock_daten.set_working_data()"
   ]
  },
  {
   "cell_type": "markdown",
   "id": "4be6d16a-22fd-45d5-80b4-d48958f3ec5c",
   "metadata": {},
   "source": [
    "### check loaded data"
   ]
  },
  {
   "cell_type": "code",
   "execution_count": 70,
   "id": "c5f467d4-d24e-48be-94a8-166ac8495427",
   "metadata": {},
   "outputs": [
    {
     "name": "stdout",
     "output_type": "stream",
     "text": [
      "[[0.06437534 0.0656416  0.07292041 ... 0.094798   0.         0.        ]\n",
      " [0.07050014 0.06955041 0.07910233 ... 0.1182765  0.         0.        ]\n",
      " [0.07193355 0.07085328 0.07778699 ... 0.08766944 0.         0.        ]\n",
      " ...\n",
      " [0.687786   0.6970362  0.69650651 ... 0.09870626 0.         0.        ]\n",
      " [0.71167377 0.76781368 0.72796793 ... 0.19533636 0.         0.        ]\n",
      " [0.77343223 0.7788818  0.7772182  ... 0.1133851  0.         0.        ]]\n",
      "(2542, 7)\n"
     ]
    }
   ],
   "source": [
    "print(stock_daten.test_data)\n",
    "print(stock_daten.test_data.shape)"
   ]
  },
  {
   "cell_type": "markdown",
   "id": "42c5737c-8a56-48e4-a0fa-296564f1e837",
   "metadata": {},
   "source": [
    "#### construct datasets"
   ]
  },
  {
   "cell_type": "code",
   "execution_count": 55,
   "id": "ad4d8a7f-c4fc-4acb-b5ba-5c5b20579e6e",
   "metadata": {},
   "outputs": [
    {
     "name": "stdout",
     "output_type": "stream",
     "text": [
      "['Open', 'High', 'Low', 'Close', 'Volume']\n"
     ]
    }
   ],
   "source": [
    "print(stock_daten.features)"
   ]
  },
  {
   "cell_type": "code",
   "execution_count": 56,
   "id": "5a184175-a351-4d7f-b45a-5b28245c7d6b",
   "metadata": {},
   "outputs": [],
   "source": [
    "stock_daten.create_train_test_data()"
   ]
  },
  {
   "cell_type": "code",
   "execution_count": 61,
   "id": "5d31a9cd-356d-4f32-8ff8-5168ce1a103c",
   "metadata": {},
   "outputs": [
    {
     "data": {
      "text/plain": [
       "((1737, 60, 7), (1737,))"
      ]
     },
     "execution_count": 61,
     "metadata": {},
     "output_type": "execute_result"
    }
   ],
   "source": [
    "stock_daten._X_train.shape, stock_daten._Y_train.shape"
   ]
  },
  {
   "cell_type": "code",
   "execution_count": null,
   "id": "94195bd9-85ee-40f8-a42b-a2b8606d97f0",
   "metadata": {},
   "outputs": [],
   "source": []
  }
 ],
 "metadata": {
  "kernelspec": {
   "display_name": "Python 3 (ipykernel)",
   "language": "python",
   "name": "python3"
  },
  "language_info": {
   "codemirror_mode": {
    "name": "ipython",
    "version": 3
   },
   "file_extension": ".py",
   "mimetype": "text/x-python",
   "name": "python",
   "nbconvert_exporter": "python",
   "pygments_lexer": "ipython3",
   "version": "3.11.9"
  }
 },
 "nbformat": 4,
 "nbformat_minor": 5
}
